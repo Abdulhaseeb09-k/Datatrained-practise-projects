{
 "cells": [
  {
   "cell_type": "code",
   "execution_count": 1,
   "metadata": {},
   "outputs": [],
   "source": [
    "import pandas as pd\n"
   ]
  },
  {
   "cell_type": "code",
   "execution_count": 2,
   "metadata": {},
   "outputs": [
    {
     "data": {
      "text/html": [
       "<div>\n",
       "<style scoped>\n",
       "    .dataframe tbody tr th:only-of-type {\n",
       "        vertical-align: middle;\n",
       "    }\n",
       "\n",
       "    .dataframe tbody tr th {\n",
       "        vertical-align: top;\n",
       "    }\n",
       "\n",
       "    .dataframe thead th {\n",
       "        text-align: right;\n",
       "    }\n",
       "</style>\n",
       "<table border=\"1\" class=\"dataframe\">\n",
       "  <thead>\n",
       "    <tr style=\"text-align: right;\">\n",
       "      <th></th>\n",
       "      <th>Gender</th>\n",
       "      <th>AgeRange</th>\n",
       "      <th>HeadSize</th>\n",
       "      <th>BrainWeight</th>\n",
       "    </tr>\n",
       "  </thead>\n",
       "  <tbody>\n",
       "    <tr>\n",
       "      <th>0</th>\n",
       "      <td>1</td>\n",
       "      <td>1</td>\n",
       "      <td>4512</td>\n",
       "      <td>1530</td>\n",
       "    </tr>\n",
       "    <tr>\n",
       "      <th>1</th>\n",
       "      <td>1</td>\n",
       "      <td>1</td>\n",
       "      <td>3738</td>\n",
       "      <td>1297</td>\n",
       "    </tr>\n",
       "    <tr>\n",
       "      <th>2</th>\n",
       "      <td>1</td>\n",
       "      <td>1</td>\n",
       "      <td>4261</td>\n",
       "      <td>1335</td>\n",
       "    </tr>\n",
       "    <tr>\n",
       "      <th>3</th>\n",
       "      <td>1</td>\n",
       "      <td>1</td>\n",
       "      <td>3777</td>\n",
       "      <td>1282</td>\n",
       "    </tr>\n",
       "    <tr>\n",
       "      <th>4</th>\n",
       "      <td>1</td>\n",
       "      <td>1</td>\n",
       "      <td>4177</td>\n",
       "      <td>1590</td>\n",
       "    </tr>\n",
       "    <tr>\n",
       "      <th>...</th>\n",
       "      <td>...</td>\n",
       "      <td>...</td>\n",
       "      <td>...</td>\n",
       "      <td>...</td>\n",
       "    </tr>\n",
       "    <tr>\n",
       "      <th>232</th>\n",
       "      <td>2</td>\n",
       "      <td>2</td>\n",
       "      <td>3214</td>\n",
       "      <td>1110</td>\n",
       "    </tr>\n",
       "    <tr>\n",
       "      <th>233</th>\n",
       "      <td>2</td>\n",
       "      <td>2</td>\n",
       "      <td>3394</td>\n",
       "      <td>1215</td>\n",
       "    </tr>\n",
       "    <tr>\n",
       "      <th>234</th>\n",
       "      <td>2</td>\n",
       "      <td>2</td>\n",
       "      <td>3233</td>\n",
       "      <td>1104</td>\n",
       "    </tr>\n",
       "    <tr>\n",
       "      <th>235</th>\n",
       "      <td>2</td>\n",
       "      <td>2</td>\n",
       "      <td>3352</td>\n",
       "      <td>1170</td>\n",
       "    </tr>\n",
       "    <tr>\n",
       "      <th>236</th>\n",
       "      <td>2</td>\n",
       "      <td>2</td>\n",
       "      <td>3391</td>\n",
       "      <td>1120</td>\n",
       "    </tr>\n",
       "  </tbody>\n",
       "</table>\n",
       "<p>237 rows × 4 columns</p>\n",
       "</div>"
      ],
      "text/plain": [
       "     Gender  AgeRange  HeadSize  BrainWeight\n",
       "0         1         1      4512         1530\n",
       "1         1         1      3738         1297\n",
       "2         1         1      4261         1335\n",
       "3         1         1      3777         1282\n",
       "4         1         1      4177         1590\n",
       "..      ...       ...       ...          ...\n",
       "232       2         2      3214         1110\n",
       "233       2         2      3394         1215\n",
       "234       2         2      3233         1104\n",
       "235       2         2      3352         1170\n",
       "236       2         2      3391         1120\n",
       "\n",
       "[237 rows x 4 columns]"
      ]
     },
     "execution_count": 2,
     "metadata": {},
     "output_type": "execute_result"
    }
   ],
   "source": [
    "df_headbrain=pd.read_csv(\"head_brain.csv\")\n",
    "df_headbrain\n"
   ]
  },
  {
   "cell_type": "code",
   "execution_count": 3,
   "metadata": {},
   "outputs": [
    {
     "data": {
      "image/png": "[encoded data removed]",
      "text/plain": [
       "<Figure size 432x288 with 2 Axes>"
      ]
     },
     "metadata": {
      "needs_background": "light"
     },
     "output_type": "display_data"
    }
   ],
   "source": [
    "import seaborn as sns\n",
    "import matplotlib.pyplot as plt\n",
    "sns.heatmap(df_headbrain.isnull(),annot=True)\n",
    "plt.show()"
   ]
  },
  {
   "cell_type": "code",
   "execution_count": 4,
   "metadata": {},
   "outputs": [
    {
     "data": {
      "text/plain": [
       "Gender         0\n",
       "AgeRange       0\n",
       "HeadSize       0\n",
       "BrainWeight    0\n",
       "dtype: int64"
      ]
     },
     "execution_count": 4,
     "metadata": {},
     "output_type": "execute_result"
    }
   ],
   "source": [
    "df_headbrain.isnull().sum()"
   ]
  },
  {
   "cell_type": "code",
   "execution_count": 5,
   "metadata": {},
   "outputs": [
    {
     "name": "stdout",
     "output_type": "stream",
     "text": [
      "(237, 4)\n",
      "(236, 4)\n"
     ]
    }
   ],
   "source": [
    "from scipy.stats import zscore\n",
    "z_score=abs(zscore(df_headbrain))\n",
    "print(df_headbrain.shape)\n",
    "df_headbrain_final=df_headbrain.loc[(z_score<3).all(axis=1)]\n",
    "print(df_headbrain_final.shape)"
   ]
  },
  {
   "cell_type": "code",
   "execution_count": 6,
   "metadata": {},
   "outputs": [
    {
     "data": {
      "image/png": "[encoded data removed]",
      "text/plain": [
       "<Figure size 432x288 with 1 Axes>"
      ]
     },
     "metadata": {
      "needs_background": "light"
     },
     "output_type": "display_data"
    }
   ],
   "source": [
    "sns.lineplot(x=df_headbrain[\"HeadSize\"],y=df_headbrain[\"BrainWeight\"],data=df_headbrain)\n",
    "plt.show()"
   ]
  },
  {
   "cell_type": "code",
   "execution_count": 7,
   "metadata": {},
   "outputs": [
    {
     "data": {
      "image/png": "[encoded data removed]",
      "text/plain": [
       "<Figure size 432x288 with 1 Axes>"
      ]
     },
     "metadata": {
      "needs_background": "light"
     },
     "output_type": "display_data"
    }
   ],
   "source": [
    "sns.barplot(x=df_headbrain[\"Gender\"],y=df_headbrain[\"BrainWeight\"],data=df_headbrain)\n",
    "plt.show()"
   ]
  },
  {
   "cell_type": "code",
   "execution_count": 8,
   "metadata": {},
   "outputs": [
    {
     "data": {
      "image/png": "[encoded data removed]",
      "text/plain": [
       "<Figure size 432x288 with 1 Axes>"
      ]
     },
     "metadata": {
      "needs_background": "light"
     },
     "output_type": "display_data"
    }
   ],
   "source": [
    "plt.hist(x=\"BrainWeight\",bins=10,data=df_headbrain)\n",
    "plt.show()"
   ]
  },
  {
   "cell_type": "code",
   "execution_count": 9,
   "metadata": {},
   "outputs": [
    {
     "data": {
      "text/plain": [
       "Gender         0.265554\n",
       "AgeRange      -0.144748\n",
       "HeadSize       0.238807\n",
       "BrainWeight    0.265478\n",
       "dtype: float64"
      ]
     },
     "execution_count": 9,
     "metadata": {},
     "output_type": "execute_result"
    }
   ],
   "source": [
    "df_headbrain.skew()"
   ]
  },
  {
   "cell_type": "code",
   "execution_count": 10,
   "metadata": {},
   "outputs": [],
   "source": [
    "x=df_headbrain[[\"HeadSize\"]]\n",
    "y=df_headbrain[[\"BrainWeight\"]]"
   ]
  },
  {
   "cell_type": "code",
   "execution_count": 11,
   "metadata": {},
   "outputs": [
    {
     "data": {
      "text/plain": [
       "array([[ 2.40886829],\n",
       "       [ 0.28535333],\n",
       "       [ 1.72023489],\n",
       "       [ 0.39235214],\n",
       "       [ 1.4897759 ],\n",
       "       [-0.13441126],\n",
       "       [ 0.41430062],\n",
       "       [-0.2057438 ],\n",
       "       [-0.05759159],\n",
       "       [ 0.95478182],\n",
       "       [-0.52399669],\n",
       "       [ 0.98496097],\n",
       "       [ 0.01648451],\n",
       "       [ 1.57482624],\n",
       "       [ 0.54324791],\n",
       "       [ 0.66396452],\n",
       "       [-0.37584448],\n",
       "       [-0.46089482],\n",
       "       [-1.47875536],\n",
       "       [ 2.16743507],\n",
       "       [ 0.66945164],\n",
       "       [ 1.13036962],\n",
       "       [ 0.46642825],\n",
       "       [ 0.20853367],\n",
       "       [ 3.05360475],\n",
       "       [ 2.16469151],\n",
       "       [ 1.10293403],\n",
       "       [ 1.06452419],\n",
       "       [-0.49381754],\n",
       "       [ 1.48428878],\n",
       "       [ 0.41978774],\n",
       "       [ 0.44447977],\n",
       "       [ 1.28675251],\n",
       "       [ 1.44587895],\n",
       "       [ 1.43764827],\n",
       "       [ 0.49386384],\n",
       "       [-0.2935377 ],\n",
       "       [ 0.31278892],\n",
       "       [-0.82304466],\n",
       "       [-0.38956228],\n",
       "       [ 0.89991063],\n",
       "       [-0.35389601],\n",
       "       [ 1.8683871 ],\n",
       "       [ 0.46642825],\n",
       "       [ 0.62829825],\n",
       "       [ 1.09744691],\n",
       "       [ 1.84918218],\n",
       "       [-1.2867062 ],\n",
       "       [ 0.01922807],\n",
       "       [ 0.02745875],\n",
       "       [ 0.70511792],\n",
       "       [ 0.4362491 ],\n",
       "       [ 1.74492692],\n",
       "       [ 1.17701013],\n",
       "       [ 1.0370886 ],\n",
       "       [-0.4828433 ],\n",
       "       [ 0.70237436],\n",
       "       [ 1.45959675],\n",
       "       [ 0.82583453],\n",
       "       [ 0.09604773],\n",
       "       [ 0.63652893],\n",
       "       [-0.66117466],\n",
       "       [ 2.21681914],\n",
       "       [ 1.69828641],\n",
       "       [ 0.25517418],\n",
       "       [-0.83676246],\n",
       "       [-0.60081635],\n",
       "       [-0.71878941],\n",
       "       [ 2.18389643],\n",
       "       [ 2.04946202],\n",
       "       [ 1.02611436],\n",
       "       [ 0.61458046],\n",
       "       [ 1.33613657],\n",
       "       [ 1.16054877],\n",
       "       [ 0.52129944],\n",
       "       [-0.6584311 ],\n",
       "       [-0.20848736],\n",
       "       [-0.746225  ],\n",
       "       [ 0.81211673],\n",
       "       [ 0.55147859],\n",
       "       [ 0.53776079],\n",
       "       [ 0.60909334],\n",
       "       [-1.05624721],\n",
       "       [-0.15635973],\n",
       "       [ 0.82034741],\n",
       "       [ 0.59263198],\n",
       "       [-0.89163365],\n",
       "       [-0.62550839],\n",
       "       [-0.35115245],\n",
       "       [ 0.74901487],\n",
       "       [ 1.44313539],\n",
       "       [-0.86694161],\n",
       "       [ 0.07684282],\n",
       "       [ 0.72706639],\n",
       "       [ 0.18109807],\n",
       "       [ 0.39783926],\n",
       "       [-0.44168991],\n",
       "       [-0.3950494 ],\n",
       "       [ 0.05489434],\n",
       "       [-0.42797211],\n",
       "       [-0.3813316 ],\n",
       "       [ 0.54873503],\n",
       "       [ 0.66396452],\n",
       "       [ 0.07409926],\n",
       "       [-0.0438738 ],\n",
       "       [ 0.03843298],\n",
       "       [ 1.09195979],\n",
       "       [-0.6447133 ],\n",
       "       [ 0.7737069 ],\n",
       "       [ 2.18389643],\n",
       "       [ 0.16738028],\n",
       "       [-0.30176838],\n",
       "       [-0.17282109],\n",
       "       [-0.10971922],\n",
       "       [-0.68861025],\n",
       "       [-0.37035736],\n",
       "       [-0.12343702],\n",
       "       [ 0.72980995],\n",
       "       [ 1.31693166],\n",
       "       [ 0.83132165],\n",
       "       [-0.6447133 ],\n",
       "       [ 1.55287777],\n",
       "       [ 2.34302287],\n",
       "       [-0.05484804],\n",
       "       [ 1.14408742],\n",
       "       [ 0.40606994],\n",
       "       [-0.66666178],\n",
       "       [-1.39919214],\n",
       "       [ 1.14957454],\n",
       "       [-0.14264194],\n",
       "       [ 0.08781705],\n",
       "       [-0.27981991],\n",
       "       [ 1.13036962],\n",
       "       [ 0.09056061],\n",
       "       [-2.13172249],\n",
       "       [-0.54320161],\n",
       "       [ 0.43076198],\n",
       "       [-0.91083856],\n",
       "       [-1.45406332],\n",
       "       [-1.27024484],\n",
       "       [-0.17007753],\n",
       "       [-0.28530702],\n",
       "       [-1.25927061],\n",
       "       [-0.53771449],\n",
       "       [ 0.73804063],\n",
       "       [ 0.72706639],\n",
       "       [-0.63922618],\n",
       "       [-1.00686314],\n",
       "       [-0.50204822],\n",
       "       [-1.49247315],\n",
       "       [-0.60630347],\n",
       "       [-0.85322382],\n",
       "       [ 0.12622688],\n",
       "       [-0.53497093],\n",
       "       [ 0.60086266],\n",
       "       [-1.31139823],\n",
       "       [-0.97394043],\n",
       "       [ 0.20030299],\n",
       "       [ 1.02062724],\n",
       "       [-1.00137602],\n",
       "       [-1.54460078],\n",
       "       [ 0.39783926],\n",
       "       [-0.23592295],\n",
       "       [-0.93827416],\n",
       "       [-0.37584448],\n",
       "       [-1.51442163],\n",
       "       [-1.05899077],\n",
       "       [-0.75719924],\n",
       "       [ 0.46368469],\n",
       "       [-0.18653889],\n",
       "       [-1.34157739],\n",
       "       [-0.35938313],\n",
       "       [-0.17282109],\n",
       "       [ 0.2469435 ],\n",
       "       [-0.05210448],\n",
       "       [-1.18245094],\n",
       "       [-0.06856583],\n",
       "       [-0.20025668],\n",
       "       [ 0.94655114],\n",
       "       [-0.27707635],\n",
       "       [ 0.15091892],\n",
       "       [-1.30591112],\n",
       "       [ 1.01788369],\n",
       "       [-1.24280925],\n",
       "       [-0.42522855],\n",
       "       [ 0.02197163],\n",
       "       [-0.00546397],\n",
       "       [-1.5500879 ],\n",
       "       [-0.6584311 ],\n",
       "       [ 0.18932875],\n",
       "       [-1.2867062 ],\n",
       "       [-0.76817348],\n",
       "       [-1.7393935 ],\n",
       "       [ 0.1454318 ],\n",
       "       [-0.21397448],\n",
       "       [-2.36218148],\n",
       "       [-1.58026705],\n",
       "       [-0.79560907],\n",
       "       [-0.38681872],\n",
       "       [-0.92455636],\n",
       "       [-0.75171212],\n",
       "       [-1.11386196],\n",
       "       [-0.97942755],\n",
       "       [ 0.59537554],\n",
       "       [-1.55557502],\n",
       "       [ 0.1591496 ],\n",
       "       [-0.63648263],\n",
       "       [ 0.99044809],\n",
       "       [-0.86694161],\n",
       "       [-2.50759013],\n",
       "       [-1.91223774],\n",
       "       [-0.14812905],\n",
       "       [-1.90675062],\n",
       "       [-1.76957265],\n",
       "       [-0.1316677 ],\n",
       "       [-1.31139823],\n",
       "       [-1.06447789],\n",
       "       [-1.2729884 ],\n",
       "       [-1.00411958],\n",
       "       [-0.6721489 ],\n",
       "       [-0.69409737],\n",
       "       [-2.11251758],\n",
       "       [ 0.29084045],\n",
       "       [-0.42522855],\n",
       "       [ 0.03568942],\n",
       "       [ 0.22499502],\n",
       "       [-0.96022263],\n",
       "       [ 1.563852  ],\n",
       "       [ 0.27712265],\n",
       "       [-1.14129755],\n",
       "       [ 0.13994468],\n",
       "       [ 0.19207231],\n",
       "       [-1.15227179],\n",
       "       [-0.6584311 ],\n",
       "       [-1.10014416],\n",
       "       [-0.77366059],\n",
       "       [-0.66666178]])"
      ]
     },
     "execution_count": 11,
     "metadata": {},
     "output_type": "execute_result"
    }
   ],
   "source": [
    "from sklearn.preprocessing import StandardScaler\n",
    "sc=StandardScaler()\n",
    "x=sc.fit_transform(x)\n",
    "x"
   ]
  },
  {
   "cell_type": "code",
   "execution_count": 12,
   "metadata": {},
   "outputs": [
    {
     "name": "stdout",
     "output_type": "stream",
     "text": [
      "r2_score corresponding to random state:  25 is :  0.7759589177768255\n",
      "r2_score corresponding to random state:  26 is :  0.7415732575349601\n",
      "r2_score corresponding to random state:  27 is :  0.585589124768775\n",
      "r2_score corresponding to random state:  28 is :  0.626338283839841\n",
      "r2_score corresponding to random state:  29 is :  0.5965109967867821\n",
      "r2_score corresponding to random state:  30 is :  0.7179874529859196\n",
      "r2_score corresponding to random state:  31 is :  0.53998289163596\n",
      "r2_score corresponding to random state:  32 is :  0.6477271724122664\n",
      "r2_score corresponding to random state:  33 is :  0.7222399412879232\n",
      "r2_score corresponding to random state:  34 is :  0.6873935214789475\n",
      "r2_score corresponding to random state:  35 is :  0.5097121298800188\n",
      "r2_score corresponding to random state:  36 is :  0.6506299144609536\n",
      "r2_score corresponding to random state:  37 is :  0.6241285167480145\n",
      "r2_score corresponding to random state:  38 is :  0.49945310577715973\n",
      "r2_score corresponding to random state:  39 is :  0.6680054125246784\n",
      "r2_score corresponding to random state:  40 is :  0.6660179196891471\n",
      "r2_score corresponding to random state:  41 is :  0.6869770791567571\n",
      "r2_score corresponding to random state:  42 is :  0.7149168473012075\n",
      "r2_score corresponding to random state:  43 is :  0.6404165530671617\n",
      "r2_score corresponding to random state:  44 is :  0.6530109688762359\n",
      "r2_score corresponding to random state:  45 is :  0.6939862623941999\n",
      "r2_score corresponding to random state:  46 is :  0.5332650244375814\n",
      "r2_score corresponding to random state:  47 is :  0.6201411206780882\n",
      "r2_score corresponding to random state:  48 is :  0.6851449361873334\n",
      "r2_score corresponding to random state:  49 is :  0.6433491336855988\n",
      "r2_score corresponding to random state:  50 is :  0.7683161771318532\n",
      "r2_score corresponding to random state:  51 is :  0.5935686929145346\n",
      "r2_score corresponding to random state:  52 is :  0.6342022687682458\n",
      "r2_score corresponding to random state:  53 is :  0.5909146568147448\n",
      "r2_score corresponding to random state:  54 is :  0.6130331905389369\n",
      "r2_score corresponding to random state:  55 is :  0.5884150240645216\n",
      "r2_score corresponding to random state:  56 is :  0.7399588791116045\n",
      "r2_score corresponding to random state:  57 is :  0.5071803243347973\n",
      "r2_score corresponding to random state:  58 is :  0.6123621922042877\n",
      "r2_score corresponding to random state:  59 is :  0.7318498972427991\n",
      "r2_score corresponding to random state:  60 is :  0.670702983531536\n",
      "r2_score corresponding to random state:  61 is :  0.6107719657611237\n",
      "r2_score corresponding to random state:  62 is :  0.5886035640681524\n",
      "r2_score corresponding to random state:  63 is :  0.6677040991373102\n",
      "r2_score corresponding to random state:  64 is :  0.6296914854979072\n",
      "r2_score corresponding to random state:  65 is :  0.71647493474892\n",
      "r2_score corresponding to random state:  66 is :  0.6203738753194059\n",
      "r2_score corresponding to random state:  67 is :  0.712612390279983\n",
      "r2_score corresponding to random state:  68 is :  0.6576566589195091\n",
      "r2_score corresponding to random state:  69 is :  0.6703630883745616\n",
      "r2_score corresponding to random state:  70 is :  0.5891175986445865\n",
      "r2_score corresponding to random state:  71 is :  0.6417613976759238\n",
      "r2_score corresponding to random state:  72 is :  0.5463136037595998\n",
      "r2_score corresponding to random state:  73 is :  0.5045543063528726\n",
      "r2_score corresponding to random state:  74 is :  0.6908546939589804\n",
      "r2_score corresponding to random state:  75 is :  0.5839986897763758\n",
      "r2_score corresponding to random state:  76 is :  0.5842914878403354\n",
      "r2_score corresponding to random state:  77 is :  0.6616634873481598\n",
      "r2_score corresponding to random state:  78 is :  0.6473967116879223\n",
      "r2_score corresponding to random state:  79 is :  0.737805890245434\n",
      "r2_score corresponding to random state:  80 is :  0.31163981871623503\n",
      "r2_score corresponding to random state:  81 is :  0.6287492712541898\n",
      "r2_score corresponding to random state:  82 is :  0.5498061635931801\n",
      "r2_score corresponding to random state:  83 is :  0.7426892680367269\n",
      "r2_score corresponding to random state:  84 is :  0.6841481547920669\n",
      "r2_score corresponding to random state:  85 is :  0.6839611629631983\n",
      "r2_score corresponding to random state:  86 is :  0.5705188355104968\n",
      "r2_score corresponding to random state:  87 is :  0.5235044952071041\n",
      "r2_score corresponding to random state:  88 is :  0.521218236230014\n",
      "r2_score corresponding to random state:  89 is :  0.664772204283787\n",
      "r2_score corresponding to random state:  90 is :  0.692591428371049\n",
      "r2_score corresponding to random state:  91 is :  0.7602597914098645\n",
      "r2_score corresponding to random state:  92 is :  0.7279273279367926\n",
      "r2_score corresponding to random state:  93 is :  0.6673454912138065\n",
      "r2_score corresponding to random state:  94 is :  0.6801980030607433\n",
      "r2_score corresponding to random state:  95 is :  0.449616958785648\n",
      "r2_score corresponding to random state:  96 is :  0.6854497779131983\n",
      "r2_score corresponding to random state:  97 is :  0.5090577072170099\n",
      "r2_score corresponding to random state:  98 is :  0.4944064453867717\n",
      "r2_score corresponding to random state:  99 is :  0.5312933151260452\n",
      "r2_score corresponding to random state:  100 is :  0.6887976995086573\n",
      "\n",
      "\n",
      "max r2 score corresponding to  25 is 0.7759589177768255\n"
     ]
    }
   ],
   "source": [
    "from sklearn.model_selection import train_test_split\n",
    "from sklearn.metrics import mean_absolute_error\n",
    "from sklearn.metrics import mean_squared_error\n",
    "from sklearn.metrics import r2_score\n",
    "from sklearn import linear_model\n",
    "max_r_score=0\n",
    "for r_state in range(25,101):\n",
    "    x_train,x_test,y_train,y_test=train_test_split(x,y,random_state=r_state,test_size=0.20)\n",
    "    regr=linear_model.LinearRegression()\n",
    "    regr.fit(x_train,y_train)\n",
    "    y_pred=regr.predict(x_test)\n",
    "    r2_scr=r2_score(y_test,y_pred)\n",
    "    print(\"r2_score corresponding to random state: \",r_state,\"is : \",r2_scr)\n",
    "    if r2_scr>max_r_score:\n",
    "        max_r_score=r2_scr\n",
    "        final_r_state=r_state\n",
    "print()\n",
    "print()\n",
    "print(\"max r2 score corresponding to \",final_r_state,\"is\",max_r_score)\n",
    "        "
   ]
  },
  {
   "cell_type": "code",
   "execution_count": 13,
   "metadata": {},
   "outputs": [
    {
     "data": {
      "text/plain": [
       "0.4936984443261273"
      ]
     },
     "execution_count": 13,
     "metadata": {},
     "output_type": "execute_result"
    }
   ],
   "source": [
    "from sklearn.model_selection import cross_val_score\n",
    "cross_val_score(linear_model.LinearRegression(),x,y,cv=5,scoring=\"r2\").mean()"
   ]
  },
  {
   "cell_type": "code",
   "execution_count": 14,
   "metadata": {},
   "outputs": [],
   "source": [
    "x_train,x_test,y_train,y_test=train_test_split(x,y,random_state=25,test_size=0.20)\n",
    "lr=linear_model.LinearRegression()\n",
    "lr.fit(x_train,y_train)\n",
    "y_pred=lr.predict(x_test)"
   ]
  },
  {
   "cell_type": "code",
   "execution_count": 15,
   "metadata": {},
   "outputs": [
    {
     "name": "stdout",
     "output_type": "stream",
     "text": [
      "r2 score is:  0.7759589177768255\n",
      "RMSE IS:  60.68909982452854\n"
     ]
    }
   ],
   "source": [
    "from sklearn.metrics import mean_squared_error\n",
    "from sklearn.metrics import r2_score\n",
    "import numpy as np\n",
    "print(\"r2 score is: \",r2_score(y_test,y_pred))\n",
    "print(\"RMSE IS: \",np.sqrt(mean_squared_error(y_test,y_pred)))"
   ]
  },
  {
   "cell_type": "code",
   "execution_count": 19,
   "metadata": {},
   "outputs": [
    {
     "data": {
      "text/plain": [
       "['lr_headbrain.pkl']"
      ]
     },
     "execution_count": 19,
     "metadata": {},
     "output_type": "execute_result"
    }
   ],
   "source": [
    "import joblib\n",
    "# save the model as a pickle in a file \n",
    "joblib.dump(lr,\"lr_headbrain.pkl\")"
   ]
  },
  {
   "cell_type": "code",
   "execution_count": null,
   "metadata": {},
   "outputs": [],
   "source": []
  }
 ],
 "metadata": {
  "kernelspec": {
   "display_name": "Python 3",
   "language": "python",
   "name": "python3"
  },
  "language_info": {
   "codemirror_mode": {
    "name": "ipython",
    "version": 3
   },
   "file_extension": ".py",
   "mimetype": "text/x-python",
   "name": "python",
   "nbconvert_exporter": "python",
   "pygments_lexer": "ipython3",
   "version": "3.8.3"
  }
 },
 "nbformat": 4,
 "nbformat_minor": 4
}
